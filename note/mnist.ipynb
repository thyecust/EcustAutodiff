{
 "metadata": {
  "language_info": {
   "codemirror_mode": {
    "name": "ipython",
    "version": 3
   },
   "file_extension": ".py",
   "mimetype": "text/x-python",
   "name": "python",
   "nbconvert_exporter": "python",
   "pygments_lexer": "ipython3",
   "version": "3.7.3-final"
  },
  "orig_nbformat": 2,
  "kernelspec": {
   "name": "python37364bitc76e297fa9e84309a877d6342fa9de15",
   "display_name": "Python 3.7.3 64-bit",
   "language": "python"
  }
 },
 "nbformat": 4,
 "nbformat_minor": 2,
 "cells": [
  {
   "source": [
    "# Use EcustAutodiff to chanllenge Fashion-MNIST"
   ],
   "cell_type": "markdown",
   "metadata": {}
  },
  {
   "source": [
    "## Dataset"
   ],
   "cell_type": "markdown",
   "metadata": {}
  },
  {
   "cell_type": "code",
   "execution_count": 6,
   "metadata": {},
   "outputs": [],
   "source": [
    "import gzip\n",
    "import struct\n",
    "import random\n",
    "import numpy as np\n",
    "\n"
   ]
  },
  {
   "source": [
    "Get train labels"
   ],
   "cell_type": "markdown",
   "metadata": {}
  },
  {
   "cell_type": "code",
   "execution_count": 7,
   "metadata": {},
   "outputs": [],
   "source": [
    "with gzip.open('../data/train-labels-idx1-ubyte.gz', 'rb') as f:\n",
    "    f_labels = f.read()\n",
    "\n",
    "labels = []\n",
    "for label in f_labels:\n",
    "    labels.append(label)\n",
    "labels = labels[8:]"
   ]
  },
  {
   "cell_type": "code",
   "execution_count": 8,
   "metadata": {},
   "outputs": [
    {
     "output_type": "execute_result",
     "data": {
      "text/plain": [
       "[5, 0, 4, 1, 9, 2, 1, 3, 1, 4, 3, 5, 3, 6, 1, 7, 2, 8, 6, 9]"
      ]
     },
     "metadata": {},
     "execution_count": 8
    }
   ],
   "source": [
    "labels[:20]"
   ]
  },
  {
   "source": [
    "Get train images (it takes few time)"
   ],
   "cell_type": "markdown",
   "metadata": {}
  },
  {
   "cell_type": "code",
   "execution_count": 10,
   "metadata": {},
   "outputs": [],
   "source": [
    "abort = 30000 # 0...60000\n",
    "with gzip.open('../data/train-images-idx3-ubyte.gz', 'rb') as f:\n",
    "    f_images = f.read()\n",
    "data = []\n",
    "for i in range(16, len(f_images)-784*abort, 784):\n",
    "    image = []\n",
    "    for j in range(784):\n",
    "        image.append(f_images[i+j])\n",
    "    image = np.array(image)\n",
    "    label = np.zeros((10))\n",
    "    label[int(labels[int((i-16)/784)])] = 1\n",
    "    data.append((image, label))\n"
   ]
  },
  {
   "source": [
    "## Train"
   ],
   "cell_type": "markdown",
   "metadata": {}
  },
  {
   "source": [
    "Import our autodiff libary"
   ],
   "cell_type": "markdown",
   "metadata": {}
  },
  {
   "cell_type": "code",
   "execution_count": 11,
   "metadata": {},
   "outputs": [],
   "source": [
    "import sys\n",
    "sys.path.append(\"..\")\n",
    "import ecust_autodiff as ad"
   ]
  },
  {
   "source": [
    "Build a model"
   ],
   "cell_type": "markdown",
   "metadata": {}
  },
  {
   "cell_type": "code",
   "execution_count": 12,
   "metadata": {},
   "outputs": [],
   "source": [
    "x = ad.Variable(name = \"x\")\n",
    "W = ad.Variable(name = \"W\")\n",
    "b = ad.Variable(name = \"b\")\n",
    "y_ = ad.Variable(name = \"y_\")\n",
    "\n",
    "y = ad.matmul_op(x,W) + b\n",
    "\n",
    "loss = ad.softmax_xentropy_op(y, y_)\n",
    "\n",
    "grad_W, grad_b = ad.gradients(loss, [W, b])\n",
    "\n",
    "executor = ad.Executor([loss, grad_W, grad_b])\n"
   ]
  },
  {
   "source": [
    "Train the model, (it takes few time)"
   ],
   "cell_type": "markdown",
   "metadata": {}
  },
  {
   "cell_type": "code",
   "execution_count": 17,
   "metadata": {},
   "outputs": [
    {
     "output_type": "stream",
     "name": "stdout",
     "text": [
      "[2.30258509]\n",
      "[0.73759473]\n",
      "[0.64281801]\n",
      "[0.60644989]\n",
      "[0.40923904]\n",
      "[0.32014206]\n",
      "[0.40703779]\n",
      "[0.43270911]\n",
      "[0.42863058]\n",
      "[0.28505359]\n",
      "[0.31245863]\n",
      "[0.24651658]\n",
      "[0.36071021]\n",
      "[0.31274222]\n",
      "[0.27891548]\n",
      "[0.34901461]\n",
      "[0.35514582]\n",
      "[0.2285766]\n",
      "[0.37617878]\n",
      "[0.31967068]\n",
      "[0.47430461]\n",
      "[0.33755185]\n",
      "[0.23954066]\n",
      "[0.4444178]\n",
      "[0.3587439]\n",
      "[0.37348198]\n",
      "[0.43301166]\n",
      "[0.28688442]\n",
      "[0.43431941]\n",
      "[0.33876803]\n",
      "[0.24440659]\n",
      "[0.34306263]\n",
      "[0.16818926]\n",
      "[0.27632778]\n",
      "[0.41019174]\n",
      "[0.21316098]\n",
      "[0.66352485]\n",
      "[0.21775188]\n",
      "[0.39690728]\n",
      "[0.26463589]\n",
      "[0.27008413]\n",
      "[0.33544858]\n",
      "[0.25191659]\n",
      "[0.22618156]\n",
      "[0.32999534]\n",
      "[0.27602639]\n",
      "[0.28249093]\n",
      "[0.42483457]\n",
      "[0.37025403]\n",
      "[0.26054738]\n",
      "[0.31216168]\n",
      "[0.26584771]\n",
      "[0.30963619]\n",
      "[0.18384146]\n",
      "[0.23482891]\n",
      "[0.21765322]\n",
      "[0.21938448]\n",
      "[0.275007]\n",
      "[0.34292783]\n",
      "[0.3841108]\n",
      "[0.26028863]\n",
      "[0.32601418]\n",
      "[0.2796153]\n",
      "[0.26294895]\n",
      "[0.42570862]\n",
      "[0.45350756]\n",
      "[0.31472751]\n",
      "[0.11306225]\n",
      "[0.22036726]\n",
      "[0.22758989]\n",
      "[0.15704856]\n",
      "[0.2221577]\n",
      "[0.1813842]\n",
      "[0.29521664]\n",
      "[0.23630079]\n",
      "[0.43597198]\n",
      "[0.19423148]\n",
      "[0.19003269]\n",
      "[0.32195591]\n",
      "[0.3041736]\n",
      "[0.2200125]\n",
      "[0.22295325]\n",
      "[0.20762303]\n",
      "[0.15520564]\n",
      "[0.16468783]\n",
      "[0.23517687]\n",
      "[0.43346572]\n",
      "[0.22661612]\n",
      "[0.39406251]\n",
      "[0.17211394]\n",
      "[0.2541316]\n",
      "[0.17652487]\n",
      "[0.24017684]\n",
      "[0.18887445]\n",
      "[0.14282422]\n",
      "[0.21656407]\n",
      "[0.23052793]\n",
      "[0.28924947]\n",
      "[0.25009512]\n",
      "[0.17658492]\n"
     ]
    }
   ],
   "source": [
    "Ws = np.zeros([784, 10])\n",
    "bs = np.zeros([10])\n",
    "\n",
    "lr_W = 1e-8\n",
    "lr_b = 1e-8\n",
    "\n",
    "for i in range(10000):\n",
    "    input_data = random.sample(data, 100)\n",
    "    input_x = []\n",
    "    input_y = []\n",
    "    for j in range(100):\n",
    "        input_x.append(input_data[j][0])\n",
    "        input_y.append(input_data[j][1])\n",
    "    \n",
    "    input_xs = np.array(input_x)\n",
    "    input_ys = np.array(input_y)\n",
    "\n",
    "    loss_val, grad_W_val, grad_b_val = executor.run(feed_dict = {\n",
    "        x: input_xs,\n",
    "        W: Ws,\n",
    "        b: bs,\n",
    "        y_: input_ys\n",
    "    })\n",
    "    \n",
    "    Ws -= grad_W_val * lr_W\n",
    "    bs -= np.mean(grad_b_val, 0) * lr_b\n",
    "\n",
    "    if i%100==0:\n",
    "        print(loss_val)"
   ]
  },
  {
   "source": [
    "## Test"
   ],
   "cell_type": "markdown",
   "metadata": {}
  },
  {
   "cell_type": "code",
   "execution_count": 19,
   "metadata": {},
   "outputs": [],
   "source": [
    "with gzip.open('../data/t10k-labels-idx1-ubyte.gz','rb') as f:\n",
    "    f_tlabel = f.read()\n",
    "tlabel = []\n",
    "for i in f_tlabel:\n",
    "    tlabel.append(i)\n",
    "tlabel = tlabel[8:]\n",
    "\n",
    "with gzip.open('../data/t10k-images-idx3-ubyte.gz','rb') as f:\n",
    "    f_timage = f.read()\n",
    "timage = []\n",
    "for i in range(16,len(f_timage),784):\n",
    "    temp = []\n",
    "    for j in range(784):\n",
    "        temp.append(f_timage[i+j])\n",
    "    timage.append(temp)"
   ]
  },
  {
   "cell_type": "code",
   "execution_count": 20,
   "metadata": {},
   "outputs": [],
   "source": [
    "test_xs = []\n",
    "for i in timage:\n",
    "    test_xs.append(np.array(i))\n",
    "test_xs = np.array(test_xs)\n",
    "\n",
    "test_ys = []\n",
    "for i in tlabel:\n",
    "    temp = np.zeros(10)\n",
    "    temp[i] = 1\n",
    "    test_ys.append(temp)\n",
    "test_ys = np.array(test_ys)\n",
    "\n",
    "test = ad.Executor([y])"
   ]
  },
  {
   "cell_type": "code",
   "execution_count": 23,
   "metadata": {
    "tags": []
   },
   "outputs": [
    {
     "output_type": "stream",
     "name": "stdout",
     "text": [
      "accuracy : \n0.9172\n"
     ]
    }
   ],
   "source": [
    "ys, = test.run(feed_dict = {\n",
    "    x: test_xs,\n",
    "    W: Ws,\n",
    "    b: bs\n",
    "})\n",
    "\n",
    "correct_prediction = np.equal(np.argmax(ys,1), np.argmax(test_ys,1))\n",
    "accuracy = np.mean(correct_prediction)\n",
    "print(accuracy)"
   ]
  },
  {
   "cell_type": "code",
   "execution_count": null,
   "metadata": {},
   "outputs": [],
   "source": []
  }
 ]
}